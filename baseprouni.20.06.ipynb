{
 "cells": [
  {
   "cell_type": "raw",
   "id": "7a922fbd-0fde-4964-bd98-f9a0293812ca",
   "metadata": {},
   "source": [
    "1) Escolha da base de dados:"
   ]
  },
  {
   "cell_type": "code",
   "execution_count": 43,
   "id": "c5523a2c-ad32-4a9e-b889-a53a2d42b782",
   "metadata": {},
   "outputs": [
    {
     "name": "stdout",
     "output_type": "stream",
     "text": [
      "Defaulting to user installation because normal site-packages is not writeable\n",
      "Requirement already satisfied: pandas in c:\\programdata\\anaconda3\\lib\\site-packages (1.4.4)\n",
      "Requirement already satisfied: python-dateutil>=2.8.1 in c:\\programdata\\anaconda3\\lib\\site-packages (from pandas) (2.8.2)\n",
      "Requirement already satisfied: pytz>=2020.1 in c:\\programdata\\anaconda3\\lib\\site-packages (from pandas) (2022.1)\n",
      "Requirement already satisfied: numpy>=1.18.5 in c:\\programdata\\anaconda3\\lib\\site-packages (from pandas) (1.21.5)\n",
      "Requirement already satisfied: six>=1.5 in c:\\programdata\\anaconda3\\lib\\site-packages (from python-dateutil>=2.8.1->pandas) (1.16.0)\n"
     ]
    }
   ],
   "source": [
    "!pip install pandas"
   ]
  },
  {
   "cell_type": "code",
   "execution_count": 44,
   "id": "d19ab30a-f6a8-4ac5-b14e-4ca540d16900",
   "metadata": {},
   "outputs": [
    {
     "data": {
      "text/html": [
       "<div>\n",
       "<style scoped>\n",
       "    .dataframe tbody tr th:only-of-type {\n",
       "        vertical-align: middle;\n",
       "    }\n",
       "\n",
       "    .dataframe tbody tr th {\n",
       "        vertical-align: top;\n",
       "    }\n",
       "\n",
       "    .dataframe thead th {\n",
       "        text-align: right;\n",
       "    }\n",
       "</style>\n",
       "<table border=\"1\" class=\"dataframe\">\n",
       "  <thead>\n",
       "    <tr style=\"text-align: right;\">\n",
       "      <th></th>\n",
       "      <th>Ano do processo seletivo</th>\n",
       "      <th>Semestre do processo seletivo</th>\n",
       "      <th>ID do estudante</th>\n",
       "      <th>Sexo</th>\n",
       "      <th>Data de Nascimento</th>\n",
       "      <th>UF de residência</th>\n",
       "      <th>Municipio de residência</th>\n",
       "      <th>Etnia/Cor</th>\n",
       "      <th>Pessoa com deficiência?</th>\n",
       "      <th>Tipo de escola no ensino médio</th>\n",
       "      <th>...</th>\n",
       "      <th>Ano do Enem</th>\n",
       "      <th>Redação</th>\n",
       "      <th>Matemática e suas Tecnologias</th>\n",
       "      <th>Linguagens, Códigos e suas Tec</th>\n",
       "      <th>Ciências Natureza e suas Tec</th>\n",
       "      <th>Ciências Humanas e suas Tec</th>\n",
       "      <th>Situação Inscrição Fies</th>\n",
       "      <th>Percentual de financiamento</th>\n",
       "      <th>Semestre do financiamento</th>\n",
       "      <th>Qtde semestre financiado</th>\n",
       "    </tr>\n",
       "  </thead>\n",
       "  <tbody>\n",
       "    <tr>\n",
       "      <th>0</th>\n",
       "      <td>2021</td>\n",
       "      <td>2</td>\n",
       "      <td>281805657</td>\n",
       "      <td>M</td>\n",
       "      <td>15/05/00</td>\n",
       "      <td>PR</td>\n",
       "      <td>COLOMBO</td>\n",
       "      <td>PARDA</td>\n",
       "      <td>NÃO</td>\n",
       "      <td>SIM</td>\n",
       "      <td>...</td>\n",
       "      <td>2020</td>\n",
       "      <td>640</td>\n",
       "      <td>675,4</td>\n",
       "      <td>643,2</td>\n",
       "      <td>539,7</td>\n",
       "      <td>622,2</td>\n",
       "      <td>NÃO CONTRATADO</td>\n",
       "      <td>NaN</td>\n",
       "      <td></td>\n",
       "      <td>NaN</td>\n",
       "    </tr>\n",
       "    <tr>\n",
       "      <th>1</th>\n",
       "      <td>2021</td>\n",
       "      <td>2</td>\n",
       "      <td>281805657</td>\n",
       "      <td>M</td>\n",
       "      <td>15/05/00</td>\n",
       "      <td>PR</td>\n",
       "      <td>COLOMBO</td>\n",
       "      <td>PARDA</td>\n",
       "      <td>NÃO</td>\n",
       "      <td>SIM</td>\n",
       "      <td>...</td>\n",
       "      <td>2020</td>\n",
       "      <td>640</td>\n",
       "      <td>675,4</td>\n",
       "      <td>643,2</td>\n",
       "      <td>539,7</td>\n",
       "      <td>622,2</td>\n",
       "      <td>NÃO CONTRATADO</td>\n",
       "      <td>NaN</td>\n",
       "      <td></td>\n",
       "      <td>NaN</td>\n",
       "    </tr>\n",
       "    <tr>\n",
       "      <th>2</th>\n",
       "      <td>2021</td>\n",
       "      <td>2</td>\n",
       "      <td>351067941</td>\n",
       "      <td>M</td>\n",
       "      <td>10/07/94</td>\n",
       "      <td>PR</td>\n",
       "      <td>CURITIBA</td>\n",
       "      <td>BRANCA</td>\n",
       "      <td>NÃO</td>\n",
       "      <td>NÃO</td>\n",
       "      <td>...</td>\n",
       "      <td>2011</td>\n",
       "      <td>900</td>\n",
       "      <td>758,1</td>\n",
       "      <td>646,9</td>\n",
       "      <td>598,4</td>\n",
       "      <td>605,7</td>\n",
       "      <td>PARTICIPACAO CANCELADA PELO CANDIDATO</td>\n",
       "      <td>NaN</td>\n",
       "      <td></td>\n",
       "      <td>NaN</td>\n",
       "    </tr>\n",
       "    <tr>\n",
       "      <th>3</th>\n",
       "      <td>2021</td>\n",
       "      <td>2</td>\n",
       "      <td>205906170</td>\n",
       "      <td>M</td>\n",
       "      <td>25/09/89</td>\n",
       "      <td>PR</td>\n",
       "      <td>CURITIBA</td>\n",
       "      <td>BRANCA</td>\n",
       "      <td>NÃO</td>\n",
       "      <td>SIM</td>\n",
       "      <td>...</td>\n",
       "      <td>2020</td>\n",
       "      <td>540</td>\n",
       "      <td>609,8</td>\n",
       "      <td>610,7</td>\n",
       "      <td>586</td>\n",
       "      <td>646,2</td>\n",
       "      <td>OPÇÃO NÃO CONTRATADA</td>\n",
       "      <td>NaN</td>\n",
       "      <td>NaN</td>\n",
       "      <td>10.0</td>\n",
       "    </tr>\n",
       "    <tr>\n",
       "      <th>4</th>\n",
       "      <td>2021</td>\n",
       "      <td>2</td>\n",
       "      <td>351067085</td>\n",
       "      <td>F</td>\n",
       "      <td>20/07/99</td>\n",
       "      <td>PR</td>\n",
       "      <td>PARANAGUÁ</td>\n",
       "      <td>BRANCA</td>\n",
       "      <td>NÃO</td>\n",
       "      <td>SIM</td>\n",
       "      <td>...</td>\n",
       "      <td>2017</td>\n",
       "      <td>680</td>\n",
       "      <td>408,6</td>\n",
       "      <td>499,8</td>\n",
       "      <td>484,5</td>\n",
       "      <td>487,9</td>\n",
       "      <td>NÃO CONTRATADO</td>\n",
       "      <td>NaN</td>\n",
       "      <td></td>\n",
       "      <td>NaN</td>\n",
       "    </tr>\n",
       "  </tbody>\n",
       "</table>\n",
       "<p>5 rows × 57 columns</p>\n",
       "</div>"
      ],
      "text/plain": [
       "   Ano do processo seletivo  Semestre do processo seletivo  ID do estudante  \\\n",
       "0                      2021                              2        281805657   \n",
       "1                      2021                              2        281805657   \n",
       "2                      2021                              2        351067941   \n",
       "3                      2021                              2        205906170   \n",
       "4                      2021                              2        351067085   \n",
       "\n",
       "  Sexo Data de Nascimento UF de residência Municipio de residência Etnia/Cor  \\\n",
       "0    M           15/05/00               PR                 COLOMBO     PARDA   \n",
       "1    M           15/05/00               PR                 COLOMBO     PARDA   \n",
       "2    M           10/07/94               PR                CURITIBA    BRANCA   \n",
       "3    M           25/09/89               PR                CURITIBA    BRANCA   \n",
       "4    F           20/07/99               PR               PARANAGUÁ    BRANCA   \n",
       "\n",
       "  Pessoa com deficiência? Tipo de escola no ensino médio  ...  Ano do Enem  \\\n",
       "0                     NÃO                            SIM  ...         2020   \n",
       "1                     NÃO                            SIM  ...         2020   \n",
       "2                     NÃO                            NÃO  ...         2011   \n",
       "3                     NÃO                            SIM  ...         2020   \n",
       "4                     NÃO                            SIM  ...         2017   \n",
       "\n",
       "  Redação Matemática e suas Tecnologias  Linguagens, Códigos e suas Tec  \\\n",
       "0     640                         675,4                           643,2   \n",
       "1     640                         675,4                           643,2   \n",
       "2     900                         758,1                           646,9   \n",
       "3     540                         609,8                           610,7   \n",
       "4     680                         408,6                           499,8   \n",
       "\n",
       "  Ciências Natureza e suas Tec Ciências Humanas e suas Tec  \\\n",
       "0                        539,7                       622,2   \n",
       "1                        539,7                       622,2   \n",
       "2                        598,4                       605,7   \n",
       "3                          586                       646,2   \n",
       "4                        484,5                       487,9   \n",
       "\n",
       "                 Situação Inscrição Fies Percentual de financiamento  \\\n",
       "0                         NÃO CONTRATADO                         NaN   \n",
       "1                         NÃO CONTRATADO                         NaN   \n",
       "2  PARTICIPACAO CANCELADA PELO CANDIDATO                         NaN   \n",
       "3                   OPÇÃO NÃO CONTRATADA                         NaN   \n",
       "4                         NÃO CONTRATADO                         NaN   \n",
       "\n",
       "   Semestre do financiamento Qtde semestre financiado  \n",
       "0                                                 NaN  \n",
       "1                                                 NaN  \n",
       "2                                                 NaN  \n",
       "3                        NaN                     10.0  \n",
       "4                                                 NaN  \n",
       "\n",
       "[5 rows x 57 columns]"
      ]
     },
     "execution_count": 44,
     "metadata": {},
     "output_type": "execute_result"
    }
   ],
   "source": [
    "import pandas as pd\n",
    "\n",
    "arquivo = \"relatorio_inscricao_dados_abertos_fies_22021.csv\"\n",
    "df = pd.read_csv(arquivo, sep=';', encoding='latin1', nrows=1000)\n",
    "\n",
    "df.head()"
   ]
  },
  {
   "cell_type": "raw",
   "id": "c642d782-30b9-45d4-a504-a16bae92d0ea",
   "metadata": {},
   "source": [
    "2) Criação de função própria:"
   ]
  },
  {
   "cell_type": "code",
   "execution_count": 45,
   "id": "c2ac2fbd-e9a7-4bb9-adf7-bacc14167bc4",
   "metadata": {},
   "outputs": [
    {
     "name": "stdout",
     "output_type": "stream",
     "text": [
      "A média de Redações é: 785.18\n"
     ]
    }
   ],
   "source": [
    "def calcular_media(df, Redação):\n",
    "    media = df[Redação].mean()\n",
    "    print(\"A média de Redações é:\", media)\n",
    "\n",
    "calcular_media(df, 'Redação')"
   ]
  },
  {
   "cell_type": "raw",
   "id": "a797decd-845b-4086-b057-c4106e7fc136",
   "metadata": {},
   "source": [
    "3) Estrutura de repetição e condição:"
   ]
  },
  {
   "cell_type": "code",
   "execution_count": 46,
   "id": "b0143ad9-6f5a-4883-a4ef-b04e0eed24d3",
   "metadata": {},
   "outputs": [
    {
     "name": "stdout",
     "output_type": "stream",
     "text": [
      "A quantidade de notas de Redação acima de 500.0 foram: 961\n"
     ]
    }
   ],
   "source": [
    "valor_min = 500.00\n",
    "contador = 0\n",
    "\n",
    "for index, row in df.iterrows():\n",
    "    if row['Redação'] > valor_min:\n",
    "        contador += 1\n",
    "\n",
    "print(f\"A quantidade de notas de Redação acima de\" ,valor_min, \"foram:\", contador)"
   ]
  },
  {
   "cell_type": "raw",
   "id": "c6a4373a-fae3-453b-a7f1-bffbaee76a1c",
   "metadata": {},
   "source": [
    "4) Funções especiais:"
   ]
  },
  {
   "cell_type": "code",
   "execution_count": 55,
   "id": "fbe94d47-75d4-439f-b10d-868ede57dc38",
   "metadata": {},
   "outputs": [
    {
     "name": "stdout",
     "output_type": "stream",
     "text": [
      "A média das notas de Matemática e suas Tecnologias em 2021 foram: 655.48\n"
     ]
    }
   ],
   "source": [
    "from functools import reduce\n",
    "\n",
    "df['Matemática e suas Tecnologias'] = pd.to_numeric(df['Matemática e suas Tecnologias'], errors='coerce')\n",
    "df = df.dropna(subset=['Matemática e suas Tecnologias'])\n",
    "\n",
    "\n",
    "media_notas = reduce(lambda x, y: x + y, df['Matemática e suas Tecnologias']) / len(df['Matemática e suas Tecnologias'])\n",
    "print(\"A média das notas de Matemática e suas Tecnologias em 2021 foram:\", round(media_notas, 2))"
   ]
  },
  {
   "cell_type": "raw",
   "id": "5483ca3f-c318-4441-a181-6da82b116af5",
   "metadata": {},
   "source": [
    "5) Resumo estatístico:"
   ]
  },
  {
   "cell_type": "code",
   "execution_count": 66,
   "id": "a8627666-35a2-4b60-b62b-14aefc978b3a",
   "metadata": {},
   "outputs": [
    {
     "name": "stdout",
     "output_type": "stream",
     "text": [
      "A mediana de Redações é: 840.0\n"
     ]
    }
   ],
   "source": [
    "#MEDIANA\n",
    "\n",
    "def calcular_media(df, Redação):\n",
    "    media = df[Redação].median()\n",
    "    print(\"A mediana de Redações é:\", round(media,2))\n",
    "\n",
    "calcular_media(df, 'Redação')"
   ]
  },
  {
   "cell_type": "code",
   "execution_count": 67,
   "id": "af8033bf-1f0c-40d9-bec8-1595b03e5fa2",
   "metadata": {},
   "outputs": [
    {
     "name": "stdout",
     "output_type": "stream",
     "text": [
      "A média de Redações é: 796.81\n"
     ]
    }
   ],
   "source": [
    "#MEDIA\n",
    "\n",
    "def calcular_media(df, Redação):\n",
    "    media = df[Redação].mean()\n",
    "    print(\"A média de Redações é:\", round(media,2))\n",
    "\n",
    "calcular_media(df, 'Redação')"
   ]
  },
  {
   "cell_type": "raw",
   "id": "ef7082c3-2fd5-4df1-ae59-a53d82aa338e",
   "metadata": {},
   "source": [
    "6) Publicação usando Quarto:"
   ]
  },
  {
   "cell_type": "markdown",
   "id": "50281732-5b82-465f-8eb2-872177359a00",
   "metadata": {},
   "source": [
    "title: \"baseprouni.20.06\"\n",
    "author: \"PolyanaPlaza\"\n",
    "date: \"20 de junho de 2023\"\n",
    "lang: pt\n",
    "format: \n",
    "  html:\n",
    "    code-tools: true\n",
    "    code-fold: true\n",
    "    default-image-extension: png\n",
    "    page-layout: full\n",
    "jupyter: python3\n",
    "---\n",
    "quarto render baseprouni.20.06.ipynb --to html (pdf, docx, epub, pptx)"
   ]
  },
  {
   "cell_type": "code",
   "execution_count": null,
   "id": "5d9b993d-3ab9-4e9f-bf7f-c39dbe5683c1",
   "metadata": {},
   "outputs": [],
   "source": []
  }
 ],
 "metadata": {
  "kernelspec": {
   "display_name": "Python 3 (ipykernel)",
   "language": "python",
   "name": "python3"
  },
  "language_info": {
   "codemirror_mode": {
    "name": "ipython",
    "version": 3
   },
   "file_extension": ".py",
   "mimetype": "text/x-python",
   "name": "python",
   "nbconvert_exporter": "python",
   "pygments_lexer": "ipython3",
   "version": "3.9.13"
  }
 },
 "nbformat": 4,
 "nbformat_minor": 5
}
